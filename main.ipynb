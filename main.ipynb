{
 "cells": [
  {
   "cell_type": "code",
   "execution_count": 344,
   "metadata": {
    "collapsed": true,
    "ExecuteTime": {
     "end_time": "2023-06-13T21:18:35.380100700Z",
     "start_time": "2023-06-13T21:18:35.352449500Z"
    }
   },
   "outputs": [
    {
     "name": "stdout",
     "output_type": "stream",
     "text": [
      "The autoreload extension is already loaded. To reload it, use:\n",
      "  %reload_ext autoreload\n"
     ]
    }
   ],
   "source": [
    "import pandas as pd\n",
    "import numpy as np\n",
    "import openpyxl\n",
    "\n",
    "from credit_card import CreditCard\n",
    "from person import Person, Expense\n",
    "from recommender import Recommender\n",
    "from maximizer import Maximizer\n",
    "from globals import global_vars\n",
    "\n",
    "%load_ext autoreload\n",
    "%autoreload 2"
   ]
  },
  {
   "cell_type": "code",
   "execution_count": 345,
   "outputs": [],
   "source": [
    "global_vars.setBonusToggle(False)\n",
    "years = 3"
   ],
   "metadata": {
    "collapsed": false,
    "ExecuteTime": {
     "end_time": "2023-06-13T21:18:35.411729900Z",
     "start_time": "2023-06-13T21:18:35.380100700Z"
    }
   }
  },
  {
   "cell_type": "code",
   "execution_count": 346,
   "outputs": [
    {
     "data": {
      "text/plain": "                      Card Ignore           Company  Annual Fee  \\\n0            Platinum Card     No  American Express         695   \n1                Gold Card     No  American Express         250   \n2      Blue Cash Preferred     No  American Express          95   \n3               Green Card     No  American Express         150   \n4  Delta SkyMiles Platinum     No  American Express         250   \n\n   Fee Free Months      Point Type  Point to Dollar Ratio  \\\n0                0      Amex Point                 0.0100   \n1                0      Amex Point                 0.0100   \n2               12            Cash                 1.0000   \n3                0      Amex Point                 0.0100   \n4                0  Delta SkyMiles                 0.0125   \n\n   Point to Dollar Ratio (Low)  Point to Dollar Ratio (High)  \\\n0                         0.08                         0.015   \n1                         0.08                         0.015   \n2                         1.00                         1.000   \n3                         0.08                         0.015   \n4                         0.01                         0.015   \n\n   Opening Bonus Points  Opening Bonus Spending Threshold  \\\n0                 80000                              6000   \n1                 60000                              4000   \n2                   250                              6000   \n3                 60000                              3000   \n4                 50000                              3000   \n\n   Opening Bonus Months Limit  DefaultMultiplier     PointMultiplier1  \\\n0                           6               1.00     Airfare,5,500000   \n1                           6               1.00             Dining,4   \n2                           6               0.01  Groceries,0.06,6000   \n3                           6               1.00            Airfare,3   \n4                           6               1.00            Airfare,3   \n\n    PointMultiplier2 PointMultiplier3 PointMultiplier4 PointMultiplier5  \\\n0           Hotels,5              NaN              NaN              NaN   \n1  Groceries,4,25000        Airfare,3              NaN              NaN   \n2     Streaming,0.06     Transit,0.03         Gas,0.03              NaN   \n3           Hotels,3        Transit,3         Dining,3              NaN   \n4           Hotels,3         Dining,2      Groceries,2              NaN   \n\n   PointMultiplier6  \n0               NaN  \n1               NaN  \n2               NaN  \n3               NaN  \n4               NaN  ",
      "text/html": "<div>\n<style scoped>\n    .dataframe tbody tr th:only-of-type {\n        vertical-align: middle;\n    }\n\n    .dataframe tbody tr th {\n        vertical-align: top;\n    }\n\n    .dataframe thead th {\n        text-align: right;\n    }\n</style>\n<table border=\"1\" class=\"dataframe\">\n  <thead>\n    <tr style=\"text-align: right;\">\n      <th></th>\n      <th>Card</th>\n      <th>Ignore</th>\n      <th>Company</th>\n      <th>Annual Fee</th>\n      <th>Fee Free Months</th>\n      <th>Point Type</th>\n      <th>Point to Dollar Ratio</th>\n      <th>Point to Dollar Ratio (Low)</th>\n      <th>Point to Dollar Ratio (High)</th>\n      <th>Opening Bonus Points</th>\n      <th>Opening Bonus Spending Threshold</th>\n      <th>Opening Bonus Months Limit</th>\n      <th>DefaultMultiplier</th>\n      <th>PointMultiplier1</th>\n      <th>PointMultiplier2</th>\n      <th>PointMultiplier3</th>\n      <th>PointMultiplier4</th>\n      <th>PointMultiplier5</th>\n      <th>PointMultiplier6</th>\n    </tr>\n  </thead>\n  <tbody>\n    <tr>\n      <th>0</th>\n      <td>Platinum Card</td>\n      <td>No</td>\n      <td>American Express</td>\n      <td>695</td>\n      <td>0</td>\n      <td>Amex Point</td>\n      <td>0.0100</td>\n      <td>0.08</td>\n      <td>0.015</td>\n      <td>80000</td>\n      <td>6000</td>\n      <td>6</td>\n      <td>1.00</td>\n      <td>Airfare,5,500000</td>\n      <td>Hotels,5</td>\n      <td>NaN</td>\n      <td>NaN</td>\n      <td>NaN</td>\n      <td>NaN</td>\n    </tr>\n    <tr>\n      <th>1</th>\n      <td>Gold Card</td>\n      <td>No</td>\n      <td>American Express</td>\n      <td>250</td>\n      <td>0</td>\n      <td>Amex Point</td>\n      <td>0.0100</td>\n      <td>0.08</td>\n      <td>0.015</td>\n      <td>60000</td>\n      <td>4000</td>\n      <td>6</td>\n      <td>1.00</td>\n      <td>Dining,4</td>\n      <td>Groceries,4,25000</td>\n      <td>Airfare,3</td>\n      <td>NaN</td>\n      <td>NaN</td>\n      <td>NaN</td>\n    </tr>\n    <tr>\n      <th>2</th>\n      <td>Blue Cash Preferred</td>\n      <td>No</td>\n      <td>American Express</td>\n      <td>95</td>\n      <td>12</td>\n      <td>Cash</td>\n      <td>1.0000</td>\n      <td>1.00</td>\n      <td>1.000</td>\n      <td>250</td>\n      <td>6000</td>\n      <td>6</td>\n      <td>0.01</td>\n      <td>Groceries,0.06,6000</td>\n      <td>Streaming,0.06</td>\n      <td>Transit,0.03</td>\n      <td>Gas,0.03</td>\n      <td>NaN</td>\n      <td>NaN</td>\n    </tr>\n    <tr>\n      <th>3</th>\n      <td>Green Card</td>\n      <td>No</td>\n      <td>American Express</td>\n      <td>150</td>\n      <td>0</td>\n      <td>Amex Point</td>\n      <td>0.0100</td>\n      <td>0.08</td>\n      <td>0.015</td>\n      <td>60000</td>\n      <td>3000</td>\n      <td>6</td>\n      <td>1.00</td>\n      <td>Airfare,3</td>\n      <td>Hotels,3</td>\n      <td>Transit,3</td>\n      <td>Dining,3</td>\n      <td>NaN</td>\n      <td>NaN</td>\n    </tr>\n    <tr>\n      <th>4</th>\n      <td>Delta SkyMiles Platinum</td>\n      <td>No</td>\n      <td>American Express</td>\n      <td>250</td>\n      <td>0</td>\n      <td>Delta SkyMiles</td>\n      <td>0.0125</td>\n      <td>0.01</td>\n      <td>0.015</td>\n      <td>50000</td>\n      <td>3000</td>\n      <td>6</td>\n      <td>1.00</td>\n      <td>Airfare,3</td>\n      <td>Hotels,3</td>\n      <td>Dining,2</td>\n      <td>Groceries,2</td>\n      <td>NaN</td>\n      <td>NaN</td>\n    </tr>\n  </tbody>\n</table>\n</div>"
     },
     "execution_count": 346,
     "metadata": {},
     "output_type": "execute_result"
    }
   ],
   "source": [
    "credit_card_df = pd.read_excel(\"credit_cards.xlsx\")\n",
    "credit_card_df.head()"
   ],
   "metadata": {
    "collapsed": false,
    "ExecuteTime": {
     "end_time": "2023-06-13T21:18:35.467942700Z",
     "start_time": "2023-06-13T21:18:35.411729900Z"
    }
   }
  },
  {
   "cell_type": "code",
   "execution_count": 347,
   "outputs": [],
   "source": [
    "def createCardObject(card_row):\n",
    "    if card_row[\"Ignore\"] == \"No\":\n",
    "        # Take a row from the credit card table and transform that row to the CreditCard object. Return that object.\n",
    "        card = CreditCard(name=card_row[\"Card\"], comp=card_row[\"Company\"], ratio=card_row[\"Point to Dollar Ratio\"], default_point_multiplier=card_row[\"DefaultMultiplier\"])\n",
    "        card.setAnnualFee(amount=card_row[\"Annual Fee\"], free_months=card_row[\"Fee Free Months\"])\n",
    "        card.setOpeningBonus(points=card_row[\"Opening Bonus Points\"], spending_criteria=card_row[\"Opening Bonus Spending Threshold\"], months_limit=card_row[\"Opening Bonus Months Limit\"])\n",
    "        for cell in card_row.filter(regex=\"PointMultiplier\").dropna():\n",
    "            # The three values are stored in the column as a string and delimited with a column\n",
    "            # The values are 'category,multiplier,limit'. If the limit is omitted, assume it does not exist.\n",
    "            values = cell.split(\",\")\n",
    "            if len(values) == 3:\n",
    "                card.addPointsMultiplier(category=values[0], multiplier=float(values[1]), limit=float(values[2]))\n",
    "            else:\n",
    "                card.addPointsMultiplier(category=values[0], multiplier=float(values[1]))\n",
    "        return card\n",
    "    else:\n",
    "        return None\n",
    "\n",
    "card_list = []\n",
    "for i, row in credit_card_df.iterrows():\n",
    "    card = createCardObject(row)\n",
    "    if card is not None:\n",
    "        card_list.append(card)\n"
   ],
   "metadata": {
    "collapsed": false,
    "ExecuteTime": {
     "end_time": "2023-06-13T21:18:35.483566100Z",
     "start_time": "2023-06-13T21:18:35.467942700Z"
    }
   }
  },
  {
   "cell_type": "code",
   "execution_count": 348,
   "outputs": [
    {
     "data": {
      "text/plain": "    Category  January  February  March  April   May  June  July  August  \\\n0        Gas      200       200    200    200   200   200   200     200   \n1    Transit      100       100    100    100   100   100   100     100   \n2  Streaming       50        50     50     50    50    50    50      50   \n3  Groceries      800       800    800    800   800   800   800     800   \n4     Dining     1500      1500   1500   1500  1500  1500  1500    1500   \n\n   September  October  November  December  Total  \n0        200      200       200       200   2400  \n1        100      100       100       100   1200  \n2         50       50        50        50    600  \n3        800      800       800       800   9600  \n4       1500     1500      1500      1500  18000  ",
      "text/html": "<div>\n<style scoped>\n    .dataframe tbody tr th:only-of-type {\n        vertical-align: middle;\n    }\n\n    .dataframe tbody tr th {\n        vertical-align: top;\n    }\n\n    .dataframe thead th {\n        text-align: right;\n    }\n</style>\n<table border=\"1\" class=\"dataframe\">\n  <thead>\n    <tr style=\"text-align: right;\">\n      <th></th>\n      <th>Category</th>\n      <th>January</th>\n      <th>February</th>\n      <th>March</th>\n      <th>April</th>\n      <th>May</th>\n      <th>June</th>\n      <th>July</th>\n      <th>August</th>\n      <th>September</th>\n      <th>October</th>\n      <th>November</th>\n      <th>December</th>\n      <th>Total</th>\n    </tr>\n  </thead>\n  <tbody>\n    <tr>\n      <th>0</th>\n      <td>Gas</td>\n      <td>200</td>\n      <td>200</td>\n      <td>200</td>\n      <td>200</td>\n      <td>200</td>\n      <td>200</td>\n      <td>200</td>\n      <td>200</td>\n      <td>200</td>\n      <td>200</td>\n      <td>200</td>\n      <td>200</td>\n      <td>2400</td>\n    </tr>\n    <tr>\n      <th>1</th>\n      <td>Transit</td>\n      <td>100</td>\n      <td>100</td>\n      <td>100</td>\n      <td>100</td>\n      <td>100</td>\n      <td>100</td>\n      <td>100</td>\n      <td>100</td>\n      <td>100</td>\n      <td>100</td>\n      <td>100</td>\n      <td>100</td>\n      <td>1200</td>\n    </tr>\n    <tr>\n      <th>2</th>\n      <td>Streaming</td>\n      <td>50</td>\n      <td>50</td>\n      <td>50</td>\n      <td>50</td>\n      <td>50</td>\n      <td>50</td>\n      <td>50</td>\n      <td>50</td>\n      <td>50</td>\n      <td>50</td>\n      <td>50</td>\n      <td>50</td>\n      <td>600</td>\n    </tr>\n    <tr>\n      <th>3</th>\n      <td>Groceries</td>\n      <td>800</td>\n      <td>800</td>\n      <td>800</td>\n      <td>800</td>\n      <td>800</td>\n      <td>800</td>\n      <td>800</td>\n      <td>800</td>\n      <td>800</td>\n      <td>800</td>\n      <td>800</td>\n      <td>800</td>\n      <td>9600</td>\n    </tr>\n    <tr>\n      <th>4</th>\n      <td>Dining</td>\n      <td>1500</td>\n      <td>1500</td>\n      <td>1500</td>\n      <td>1500</td>\n      <td>1500</td>\n      <td>1500</td>\n      <td>1500</td>\n      <td>1500</td>\n      <td>1500</td>\n      <td>1500</td>\n      <td>1500</td>\n      <td>1500</td>\n      <td>18000</td>\n    </tr>\n  </tbody>\n</table>\n</div>"
     },
     "execution_count": 348,
     "metadata": {},
     "output_type": "execute_result"
    }
   ],
   "source": [
    "expense_df = pd.read_excel(\"expenses_jason_gaby.xlsx\")\n",
    "expense_df.head()"
   ],
   "metadata": {
    "collapsed": false,
    "ExecuteTime": {
     "end_time": "2023-06-13T21:18:35.530820900Z",
     "start_time": "2023-06-13T21:18:35.483566100Z"
    }
   }
  },
  {
   "cell_type": "code",
   "execution_count": 349,
   "outputs": [],
   "source": [
    "def addExpensesFromDataFrame(df, person):\n",
    "    for i, row in df.iterrows():\n",
    "        category = row[\"Category\"]\n",
    "        amounts = row[[\"January\", \"February\", \"March\", \"April\", \"May\", \"June\", \"July\", \"August\", \"September\", \"October\", \"November\", \"December\"]].to_list()\n",
    "        expense = Expense(category, amounts)\n",
    "        person.addExpense(expense)\n",
    "    return\n",
    "\n",
    "jason = Person(\"Jason\", \"Gaby\")\n",
    "addExpensesFromDataFrame(expense_df, jason)"
   ],
   "metadata": {
    "collapsed": false,
    "ExecuteTime": {
     "end_time": "2023-06-13T21:18:35.567059100Z",
     "start_time": "2023-06-13T21:18:35.530820900Z"
    }
   }
  },
  {
   "cell_type": "code",
   "execution_count": 350,
   "outputs": [
    {
     "data": {
      "text/plain": "174000"
     },
     "execution_count": 350,
     "metadata": {},
     "output_type": "execute_result"
    }
   ],
   "source": [
    "jason.getExpenses()[-1].getAmountOverMonthRange()"
   ],
   "metadata": {
    "collapsed": false,
    "ExecuteTime": {
     "end_time": "2023-06-13T21:18:35.629938100Z",
     "start_time": "2023-06-13T21:18:35.567059100Z"
    }
   }
  },
  {
   "cell_type": "code",
   "execution_count": 351,
   "outputs": [
    {
     "name": "stdout",
     "output_type": "stream",
     "text": [
      "                       Card  Net Benefit ($)  Net Costs ($)  Net Value ($)\n",
      "9          Sapphire Reserve         22612.50           1650       20962.50\n",
      "12        Venture X Rewards         20286.00           1185       19101.00\n",
      "10        Freedom Unlimited         15934.50              0       15934.50\n",
      "11          Venture Rewards         16146.00            285       15861.00\n",
      "8        Sapphire Preferred         16098.75            285       15813.75\n",
      "14              Double Cash         14958.00              0       14958.00\n",
      "4   Delta SkyMiles Platinum         13083.75            750       12333.75\n",
      "13                  Premier         11439.00            285       11154.00\n",
      "1                 Gold Card         11403.00            750       10653.00\n",
      "3                Green Card         10791.00            450       10341.00\n",
      "6       Delta SkyMiles Gold         10383.75            198       10185.75\n",
      "0             Platinum Card         11799.00           2085        9714.00\n",
      "7    Delta Skymiles Reserve         11148.75           1650        9498.75\n",
      "2       Blue Cash Preferred          8685.00            190        8495.00\n",
      "5        Blue Cash Everyday          8343.00              0        8343.00\n"
     ]
    }
   ],
   "source": [
    "recommender = Recommender(jason, card_list, years=years)\n",
    "sorted_recommendation = recommender.recommendation_df.sort_values(by=[\"Net Value ($)\"], ascending=False)\n",
    "print(sorted_recommendation)\n",
    "\n"
   ],
   "metadata": {
    "collapsed": false,
    "ExecuteTime": {
     "end_time": "2023-06-13T21:18:35.629938100Z",
     "start_time": "2023-06-13T21:18:35.598305600Z"
    }
   }
  },
  {
   "cell_type": "code",
   "execution_count": 352,
   "outputs": [
    {
     "name": "stdout",
     "output_type": "stream",
     "text": [
      "Hotels: Sapphire Reserve - $ 3750.00\n",
      "Car Rentals: Sapphire Reserve - $ 540.00\n",
      "Online Retail: Blue Cash Everyday - $ 540.00\n",
      "Drug Store: Double Cash - $ 18.00\n",
      "Other: Double Cash - $ 10440.00\n",
      "Gas: Blue Cash Everyday - $ 216.00\n",
      "Transit: Sapphire Reserve - $ 162.00\n",
      "Streaming: Double Cash - $ 36.00\n",
      "Groceries: Blue Cash Preferred - $ 1538.00\n",
      "Dining: Sapphire Reserve - $ 2430.00\n",
      "Airfare: Sapphire Reserve - $ 5400.00\n"
     ]
    }
   ],
   "source": [
    "maximizer = Maximizer(jason, card_list, years=years)\n",
    "recommendations = maximizer.getRecommendations()\n",
    "for key in recommendations:\n",
    "    print(f\"{key}: {recommendations[key]['card'].getName()} - ${recommendations[key]['value']: .2f}\")\n"
   ],
   "metadata": {
    "collapsed": false,
    "ExecuteTime": {
     "end_time": "2023-06-13T21:18:35.724059800Z",
     "start_time": "2023-06-13T21:18:35.629938100Z"
    }
   }
  },
  {
   "cell_type": "code",
   "execution_count": 353,
   "outputs": [
    {
     "name": "stdout",
     "output_type": "stream",
     "text": [
      "\n",
      "Recommended Card: Sapphire Reserve\n",
      "Net Value: $20962.50\n",
      "\n",
      "Maximum Possible Net Value if optimizing card usage: $25070.00\n",
      "Possible additional value: $4107.50\n"
     ]
    }
   ],
   "source": [
    "print(f\"\\nRecommended Card: {recommender.getRecommendationName()}\")\n",
    "print(f\"Net Value: ${recommender.getRecommendationNetValue():.2f}\")\n",
    "\n",
    "print(f\"\\nMaximum Possible Net Value if optimizing card usage: ${maximizer.getRecommendationValue():.2f}\")\n",
    "print(f\"Possible additional value: ${maximizer.getRecommendationValue() - recommender.getRecommendationNetValue():.2f}\")"
   ],
   "metadata": {
    "collapsed": false,
    "ExecuteTime": {
     "end_time": "2023-06-13T21:18:35.770932700Z",
     "start_time": "2023-06-13T21:18:35.724059800Z"
    }
   }
  },
  {
   "cell_type": "code",
   "execution_count": 354,
   "outputs": [
    {
     "name": "stdout",
     "output_type": "stream",
     "text": [
      "[[[   0. 1000.]\n",
      "  [1000. 2000.]]\n",
      "\n",
      " [[1000. 2000.]\n",
      "  [2000. 3000.]]]\n"
     ]
    }
   ],
   "source": [
    "# DO NOT DELETE!\n",
    "amount = 1_000\n",
    "n_samples = 2\n",
    "n_dimensions = 3\n",
    "v = np.linspace(0, amount, n_samples)\n",
    "sum = np.array(np.meshgrid(*[v] * n_dimensions)).sum(axis=0)\n",
    "print(sum)\n",
    "\n"
   ],
   "metadata": {
    "collapsed": false,
    "ExecuteTime": {
     "end_time": "2023-06-13T21:18:35.786555600Z",
     "start_time": "2023-06-13T21:18:35.755309200Z"
    }
   }
  },
  {
   "cell_type": "markdown",
   "source": [],
   "metadata": {
    "collapsed": false
   }
  }
 ],
 "metadata": {
  "kernelspec": {
   "display_name": "Python 3",
   "language": "python",
   "name": "python3"
  },
  "language_info": {
   "codemirror_mode": {
    "name": "ipython",
    "version": 2
   },
   "file_extension": ".py",
   "mimetype": "text/x-python",
   "name": "python",
   "nbconvert_exporter": "python",
   "pygments_lexer": "ipython2",
   "version": "2.7.6"
  }
 },
 "nbformat": 4,
 "nbformat_minor": 0
}
